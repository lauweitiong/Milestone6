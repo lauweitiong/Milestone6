{
 "cells": [
  {
   "cell_type": "markdown",
   "metadata": {},
   "source": [
    "##### Crawl data from PDF which downlaoded from Bursa Malaysia website.\n",
    "##### Identify the table data to crawl and repeated for daily stocks data."
   ]
  },
  {
   "cell_type": "markdown",
   "metadata": {},
   "source": [
    "### Import Library"
   ]
  },
  {
   "cell_type": "code",
   "execution_count": 1,
   "metadata": {
    "collapsed": true
   },
   "outputs": [],
   "source": [
    "import os\n",
    "import tabula\n",
    "import numpy as np\n",
    "import pandas as pd\n",
    "from pandas import DataFrame\n",
    "from PyPDF2 import PdfFileReader, PdfFileWriter"
   ]
  },
  {
   "cell_type": "markdown",
   "metadata": {},
   "source": [
    "### Importing PDF files for data extraction"
   ]
  },
  {
   "cell_type": "code",
   "execution_count": 2,
   "metadata": {
    "collapsed": true
   },
   "outputs": [],
   "source": [
    "arr = []\n",
    "for file in os.listdir(r\"https://github.com/lauweitiong/Milestone6/tree/master/Data"):\n",
    "    if file.endswith(\".pdf\"):\n",
    "        arr.append(file)\n",
    "\n",
    "filenames = [f for f in arr] "
   ]
  },
  {
   "cell_type": "code",
   "execution_count": 3,
   "metadata": {},
   "outputs": [
    {
     "data": {
      "text/plain": [
       "['securities_equities_030419.pdf',\n",
       " 'securities_equities_040419.pdf',\n",
       " 'securities_equities_050419.pdf',\n",
       " 'securities_equities_080419.pdf',\n",
       " 'securities_equities_090419.pdf',\n",
       " 'securities_equities_100419.pdf',\n",
       " 'securities_equities_110419.pdf',\n",
       " 'securities_equities_120419.pdf',\n",
       " 'securities_equities_150419.pdf',\n",
       " 'securities_equities_160419.pdf',\n",
       " 'securities_equities_170419.pdf',\n",
       " 'securities_equities_180419.pdf',\n",
       " 'securities_equities_190419.pdf',\n",
       " 'securities_equities_220419.pdf',\n",
       " 'securities_equities_230419.pdf',\n",
       " 'securities_equities_240419.pdf',\n",
       " 'securities_equities_250419.pdf',\n",
       " 'securities_equities_260419.pdf',\n",
       " 'securities_equities_290419.pdf',\n",
       " 'securities_equities_300419.pdf']"
      ]
     },
     "execution_count": 3,
     "metadata": {},
     "output_type": "execute_result"
    }
   ],
   "source": [
    "filenames"
   ]
  },
  {
   "cell_type": "markdown",
   "metadata": {},
   "source": [
    "## Data Extraction\n"
   ]
  },
  {
   "cell_type": "code",
   "execution_count": 4,
   "metadata": {
    "collapsed": true
   },
   "outputs": [],
   "source": [
    "stocks = pd.DataFrame([])"
   ]
  },
  {
   "cell_type": "code",
   "execution_count": 5,
   "metadata": {},
   "outputs": [
    {
     "name": "stdout",
     "output_type": "stream",
     "text": [
      "securities_equities_030419.pdf\n",
      "number of pages: 37\n",
      "securities_equities_040419.pdf\n",
      "number of pages: 37\n",
      "securities_equities_050419.pdf\n",
      "number of pages: 37\n",
      "securities_equities_080419.pdf\n",
      "number of pages: 37\n",
      "securities_equities_090419.pdf\n",
      "number of pages: 37\n",
      "securities_equities_100419.pdf\n",
      "number of pages: 37\n",
      "securities_equities_110419.pdf\n",
      "number of pages: 37\n",
      "securities_equities_120419.pdf\n",
      "number of pages: 37\n",
      "securities_equities_150419.pdf\n",
      "number of pages: 37\n",
      "securities_equities_160419.pdf\n",
      "number of pages: 37\n",
      "securities_equities_170419.pdf\n",
      "number of pages: 37\n",
      "securities_equities_180419.pdf\n",
      "number of pages: 37\n",
      "securities_equities_190419.pdf\n",
      "number of pages: 38\n",
      "securities_equities_220419.pdf\n",
      "number of pages: 38\n",
      "securities_equities_230419.pdf\n",
      "number of pages: 38\n",
      "securities_equities_240419.pdf\n",
      "number of pages: 38\n",
      "securities_equities_250419.pdf\n",
      "number of pages: 38\n",
      "securities_equities_260419.pdf\n",
      "number of pages: 38\n",
      "securities_equities_290419.pdf\n",
      "number of pages: 38\n",
      "securities_equities_300419.pdf\n",
      "number of pages: 38\n"
     ]
    }
   ],
   "source": [
    "for data in filenames:\n",
    "    reader = PdfFileReader(open(data,mode='rb'))\n",
    "    n =  reader.getNumPages()\n",
    "    print(data)\n",
    "    print(\"number of pages:\",n)\n",
    "    for i in range(4,n):\n",
    "        df = tabula.read_pdf(data,pages=i,sort=True)\n",
    "        df.Stock = df.Stock.apply('=\"{}\"'.format)\n",
    "        df=df.dropna()\n",
    "        df= df.drop_duplicates(subset =\"Stock\")\n",
    "        df.reset_index(drop=True)\n",
    "        stocks = stocks.append(df)"
   ]
  },
  {
   "cell_type": "code",
   "execution_count": 6,
   "metadata": {
    "collapsed": true
   },
   "outputs": [],
   "source": [
    "stocks_final = stocks\n",
    "del stocks_final['Unnamed: 2']"
   ]
  },
  {
   "cell_type": "code",
   "execution_count": 7,
   "metadata": {
    "collapsed": true
   },
   "outputs": [],
   "source": [
    "stocks_final = stocks_final.rename(columns={'Cur.':'Currency', 'Stock Name':'Stock_name', 'Value Traded': 'Val_traded', 'Volume': 'Vol_traded'})"
   ]
  },
  {
   "cell_type": "code",
   "execution_count": 8,
   "metadata": {
    "collapsed": true
   },
   "outputs": [],
   "source": [
    "stocks_final.to_csv('Stock_data.csv',index=False)  "
   ]
  },
  {
   "cell_type": "code",
   "execution_count": null,
   "metadata": {
    "collapsed": true
   },
   "outputs": [],
   "source": []
  }
 ],
 "metadata": {
  "kernelspec": {
   "display_name": "Python 3",
   "language": "python",
   "name": "python3"
  },
  "language_info": {
   "codemirror_mode": {
    "name": "ipython",
    "version": 3
   },
   "file_extension": ".py",
   "mimetype": "text/x-python",
   "name": "python",
   "nbconvert_exporter": "python",
   "pygments_lexer": "ipython3",
   "version": "3.6.2"
  }
 },
 "nbformat": 4,
 "nbformat_minor": 2
}
