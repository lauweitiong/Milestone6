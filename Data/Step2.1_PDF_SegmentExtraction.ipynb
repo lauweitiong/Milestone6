{
 "cells": [
  {
   "cell_type": "markdown",
   "metadata": {},
   "source": [
    "##### Crawl data from PDF which downlaoded from Bursa Malaysia website.\n",
    "##### Identify the Segment & Warrant data to crawl."
   ]
  },
  {
   "cell_type": "code",
   "execution_count": 1,
   "metadata": {
    "collapsed": true
   },
   "outputs": [],
   "source": [
    "import tabula\n",
    "import numpy as np\n",
    "import pandas as pd\n",
    "from pandas import DataFrame\n",
    "from PyPDF2 import PdfFileReader, PdfFileWriter"
   ]
  },
  {
   "cell_type": "markdown",
   "metadata": {},
   "source": [
    "## Segment info"
   ]
  },
  {
   "cell_type": "code",
   "execution_count": 2,
   "metadata": {
    "collapsed": true
   },
   "outputs": [],
   "source": [
    "df = tabula.read_pdf(r\"C:\\Users\\lauti04\\Desktop\\Pcode\\Sem4\\DataMining\\data mining project\\Milestone6\\Segment_Warrant_data\\Securities_Equities_Year_End_Closing_Prices_2018.pdf\",pages='1-29')"
   ]
  },
  {
   "cell_type": "code",
   "execution_count": 3,
   "metadata": {},
   "outputs": [
    {
     "data": {
      "text/html": [
       "<div>\n",
       "<style>\n",
       "    .dataframe thead tr:only-child th {\n",
       "        text-align: right;\n",
       "    }\n",
       "\n",
       "    .dataframe thead th {\n",
       "        text-align: left;\n",
       "    }\n",
       "\n",
       "    .dataframe tbody tr th {\n",
       "        vertical-align: top;\n",
       "    }\n",
       "</style>\n",
       "<table border=\"1\" class=\"dataframe\">\n",
       "  <thead>\n",
       "    <tr style=\"text-align: right;\">\n",
       "      <th></th>\n",
       "      <th>Stock</th>\n",
       "      <th>Stock Name</th>\n",
       "      <th>Stock Long Name</th>\n",
       "      <th>Board</th>\n",
       "      <th>Sector</th>\n",
       "      <th>Closing</th>\n",
       "    </tr>\n",
       "  </thead>\n",
       "  <tbody>\n",
       "    <tr>\n",
       "      <th>0</th>\n",
       "      <td>Code</td>\n",
       "      <td>NaN</td>\n",
       "      <td>NaN</td>\n",
       "      <td>NaN</td>\n",
       "      <td>NaN</td>\n",
       "      <td>Price</td>\n",
       "    </tr>\n",
       "    <tr>\n",
       "      <th>1</th>\n",
       "      <td>NaN</td>\n",
       "      <td>NaN</td>\n",
       "      <td>NaN</td>\n",
       "      <td>NaN</td>\n",
       "      <td>NaN</td>\n",
       "      <td>(RM)</td>\n",
       "    </tr>\n",
       "    <tr>\n",
       "      <th>2</th>\n",
       "      <td>0001</td>\n",
       "      <td>SCOMNET</td>\n",
       "      <td>SUPERCOMNET TECHNOLOGIES BHD</td>\n",
       "      <td>ACE MARKET</td>\n",
       "      <td>INDUSTRIAL PRODUCTS &amp; SERVICES</td>\n",
       "      <td>0.560</td>\n",
       "    </tr>\n",
       "    <tr>\n",
       "      <th>3</th>\n",
       "      <td>0002</td>\n",
       "      <td>KOTRA</td>\n",
       "      <td>KOTRA INDUSTRIES BHD</td>\n",
       "      <td>MAIN MARKET</td>\n",
       "      <td>HEALTH CARE</td>\n",
       "      <td>1.700</td>\n",
       "    </tr>\n",
       "    <tr>\n",
       "      <th>4</th>\n",
       "      <td>0005</td>\n",
       "      <td>UCREST</td>\n",
       "      <td>UCREST BERHAD</td>\n",
       "      <td>ACE MARKET</td>\n",
       "      <td>TECHNOLOGY</td>\n",
       "      <td>0.265</td>\n",
       "    </tr>\n",
       "  </tbody>\n",
       "</table>\n",
       "</div>"
      ],
      "text/plain": [
       "  Stock Stock Name               Stock Long Name        Board  \\\n",
       "0  Code        NaN                           NaN          NaN   \n",
       "1   NaN        NaN                           NaN          NaN   \n",
       "2  0001    SCOMNET  SUPERCOMNET TECHNOLOGIES BHD   ACE MARKET   \n",
       "3  0002      KOTRA          KOTRA INDUSTRIES BHD  MAIN MARKET   \n",
       "4  0005     UCREST                 UCREST BERHAD   ACE MARKET   \n",
       "\n",
       "                           Sector Closing  \n",
       "0                             NaN   Price  \n",
       "1                             NaN    (RM)  \n",
       "2  INDUSTRIAL PRODUCTS & SERVICES   0.560  \n",
       "3                     HEALTH CARE   1.700  \n",
       "4                      TECHNOLOGY   0.265  "
      ]
     },
     "execution_count": 3,
     "metadata": {},
     "output_type": "execute_result"
    }
   ],
   "source": [
    "df.head()"
   ]
  },
  {
   "cell_type": "code",
   "execution_count": 4,
   "metadata": {},
   "outputs": [
    {
     "data": {
      "text/html": [
       "<div>\n",
       "<style>\n",
       "    .dataframe thead tr:only-child th {\n",
       "        text-align: right;\n",
       "    }\n",
       "\n",
       "    .dataframe thead th {\n",
       "        text-align: left;\n",
       "    }\n",
       "\n",
       "    .dataframe tbody tr th {\n",
       "        vertical-align: top;\n",
       "    }\n",
       "</style>\n",
       "<table border=\"1\" class=\"dataframe\">\n",
       "  <thead>\n",
       "    <tr style=\"text-align: right;\">\n",
       "      <th></th>\n",
       "      <th>Stock</th>\n",
       "      <th>Stock Name</th>\n",
       "      <th>Stock Long Name</th>\n",
       "      <th>Board</th>\n",
       "      <th>Sector</th>\n",
       "      <th>Closing</th>\n",
       "    </tr>\n",
       "  </thead>\n",
       "  <tbody>\n",
       "    <tr>\n",
       "      <th>0</th>\n",
       "      <td>Code</td>\n",
       "      <td>NaN</td>\n",
       "      <td>NaN</td>\n",
       "      <td>NaN</td>\n",
       "      <td>NaN</td>\n",
       "      <td>Price</td>\n",
       "    </tr>\n",
       "    <tr>\n",
       "      <th>1</th>\n",
       "      <td>NaN</td>\n",
       "      <td>NaN</td>\n",
       "      <td>NaN</td>\n",
       "      <td>NaN</td>\n",
       "      <td>NaN</td>\n",
       "      <td>(RM)</td>\n",
       "    </tr>\n",
       "    <tr>\n",
       "      <th>2</th>\n",
       "      <td>0001</td>\n",
       "      <td>SCOMNET</td>\n",
       "      <td>SUPERCOMNET TECHNOLOGIES BHD</td>\n",
       "      <td>ACE MARKET</td>\n",
       "      <td>INDUSTRIAL PRODUCTS &amp; SERVICES</td>\n",
       "      <td>0.560</td>\n",
       "    </tr>\n",
       "    <tr>\n",
       "      <th>3</th>\n",
       "      <td>0002</td>\n",
       "      <td>KOTRA</td>\n",
       "      <td>KOTRA INDUSTRIES BHD</td>\n",
       "      <td>MAIN MARKET</td>\n",
       "      <td>HEALTH CARE</td>\n",
       "      <td>1.700</td>\n",
       "    </tr>\n",
       "    <tr>\n",
       "      <th>4</th>\n",
       "      <td>0005</td>\n",
       "      <td>UCREST</td>\n",
       "      <td>UCREST BERHAD</td>\n",
       "      <td>ACE MARKET</td>\n",
       "      <td>TECHNOLOGY</td>\n",
       "      <td>0.265</td>\n",
       "    </tr>\n",
       "  </tbody>\n",
       "</table>\n",
       "</div>"
      ],
      "text/plain": [
       "  Stock Stock Name               Stock Long Name        Board  \\\n",
       "0  Code        NaN                           NaN          NaN   \n",
       "1   NaN        NaN                           NaN          NaN   \n",
       "2  0001    SCOMNET  SUPERCOMNET TECHNOLOGIES BHD   ACE MARKET   \n",
       "3  0002      KOTRA          KOTRA INDUSTRIES BHD  MAIN MARKET   \n",
       "4  0005     UCREST                 UCREST BERHAD   ACE MARKET   \n",
       "\n",
       "                           Sector Closing  \n",
       "0                             NaN   Price  \n",
       "1                             NaN    (RM)  \n",
       "2  INDUSTRIAL PRODUCTS & SERVICES   0.560  \n",
       "3                     HEALTH CARE   1.700  \n",
       "4                      TECHNOLOGY   0.265  "
      ]
     },
     "execution_count": 4,
     "metadata": {},
     "output_type": "execute_result"
    }
   ],
   "source": [
    "segment = pd.DataFrame(df)\n",
    "segment.head()"
   ]
  },
  {
   "cell_type": "code",
   "execution_count": 5,
   "metadata": {},
   "outputs": [
    {
     "data": {
      "text/html": [
       "<div>\n",
       "<style>\n",
       "    .dataframe thead tr:only-child th {\n",
       "        text-align: right;\n",
       "    }\n",
       "\n",
       "    .dataframe thead th {\n",
       "        text-align: left;\n",
       "    }\n",
       "\n",
       "    .dataframe tbody tr th {\n",
       "        vertical-align: top;\n",
       "    }\n",
       "</style>\n",
       "<table border=\"1\" class=\"dataframe\">\n",
       "  <thead>\n",
       "    <tr style=\"text-align: right;\">\n",
       "      <th></th>\n",
       "      <th>Stock</th>\n",
       "      <th>Stock Name</th>\n",
       "      <th>Stock Long Name</th>\n",
       "      <th>Board</th>\n",
       "      <th>Sector</th>\n",
       "    </tr>\n",
       "  </thead>\n",
       "  <tbody>\n",
       "    <tr>\n",
       "      <th>2</th>\n",
       "      <td>=\"0001\"</td>\n",
       "      <td>SCOMNET</td>\n",
       "      <td>SUPERCOMNET TECHNOLOGIES BHD</td>\n",
       "      <td>ACE MARKET</td>\n",
       "      <td>INDUSTRIAL PRODUCTS &amp; SERVICES</td>\n",
       "    </tr>\n",
       "    <tr>\n",
       "      <th>3</th>\n",
       "      <td>=\"0002\"</td>\n",
       "      <td>KOTRA</td>\n",
       "      <td>KOTRA INDUSTRIES BHD</td>\n",
       "      <td>MAIN MARKET</td>\n",
       "      <td>HEALTH CARE</td>\n",
       "    </tr>\n",
       "    <tr>\n",
       "      <th>4</th>\n",
       "      <td>=\"0005\"</td>\n",
       "      <td>UCREST</td>\n",
       "      <td>UCREST BERHAD</td>\n",
       "      <td>ACE MARKET</td>\n",
       "      <td>TECHNOLOGY</td>\n",
       "    </tr>\n",
       "    <tr>\n",
       "      <th>5</th>\n",
       "      <td>=\"0006\"</td>\n",
       "      <td>PINEAPP</td>\n",
       "      <td>PINEAPPLE RESOURCES BHD</td>\n",
       "      <td>ACE MARKET</td>\n",
       "      <td>TECHNOLOGY</td>\n",
       "    </tr>\n",
       "    <tr>\n",
       "      <th>6</th>\n",
       "      <td>=\"0007\"</td>\n",
       "      <td>PUC</td>\n",
       "      <td>PUC BERHAD</td>\n",
       "      <td>ACE MARKET</td>\n",
       "      <td>TELECOMMUNICATIONS &amp; MEDIA</td>\n",
       "    </tr>\n",
       "  </tbody>\n",
       "</table>\n",
       "</div>"
      ],
      "text/plain": [
       "     Stock Stock Name               Stock Long Name        Board  \\\n",
       "2  =\"0001\"    SCOMNET  SUPERCOMNET TECHNOLOGIES BHD   ACE MARKET   \n",
       "3  =\"0002\"      KOTRA          KOTRA INDUSTRIES BHD  MAIN MARKET   \n",
       "4  =\"0005\"     UCREST                 UCREST BERHAD   ACE MARKET   \n",
       "5  =\"0006\"    PINEAPP       PINEAPPLE RESOURCES BHD   ACE MARKET   \n",
       "6  =\"0007\"        PUC                    PUC BERHAD   ACE MARKET   \n",
       "\n",
       "                           Sector  \n",
       "2  INDUSTRIAL PRODUCTS & SERVICES  \n",
       "3                     HEALTH CARE  \n",
       "4                      TECHNOLOGY  \n",
       "5                      TECHNOLOGY  \n",
       "6      TELECOMMUNICATIONS & MEDIA  "
      ]
     },
     "execution_count": 5,
     "metadata": {},
     "output_type": "execute_result"
    }
   ],
   "source": [
    "segment = segment[['Stock','Stock Name','Stock Long Name','Board','Sector']]\n",
    "segment.Stock = segment.Stock.apply('=\"{}\"'.format)\n",
    "segment = segment.dropna()\n",
    "segment = segment.drop_duplicates(subset =\"Stock Name\")\n",
    "segment.head()"
   ]
  },
  {
   "cell_type": "markdown",
   "metadata": {
    "collapsed": true
   },
   "source": [
    "## Warrant Information\n"
   ]
  },
  {
   "cell_type": "code",
   "execution_count": 6,
   "metadata": {
    "collapsed": true
   },
   "outputs": [],
   "source": [
    "path = r\"C:\\Users\\lauti04\\Desktop\\Pcode\\Sem4\\DataMining\\data mining project\\Milestone6\\Segment_Warrant_data\\securities_equities_call_warrants.pdf\""
   ]
  },
  {
   "cell_type": "code",
   "execution_count": 7,
   "metadata": {},
   "outputs": [
    {
     "name": "stdout",
     "output_type": "stream",
     "text": [
      "number of pages: 13\n"
     ]
    }
   ],
   "source": [
    "df2 = pd.DataFrame([])\n",
    "reader = PdfFileReader(open(path,mode='rb'))\n",
    "n =  reader.getNumPages()\n",
    "print(\"number of pages:\",n)\n",
    "\n",
    "for i in range(1,n):\n",
    "        df = tabula.read_pdf(path,pages=i,sort=True)\n",
    "        df.Stock = df.Stock.apply('=\"{}\"'.format)\n",
    "        df=df.dropna()\n",
    "        df= df.drop_duplicates(subset =\"Stock\")\n",
    "        df.reset_index(drop=True)\n",
    "        df2 = df2.append(df)    "
   ]
  },
  {
   "cell_type": "code",
   "execution_count": 8,
   "metadata": {
    "collapsed": true
   },
   "outputs": [],
   "source": [
    "df2 = df2[[\"Stock\",\"Unnamed: 3\",\"Conversion\"]]\n",
    "df2 = df2.rename(columns={'Unnamed: 3':'Security_type'})\n",
    "df2['Board'] ='STRCWARR'"
   ]
  },
  {
   "cell_type": "code",
   "execution_count": 9,
   "metadata": {},
   "outputs": [
    {
     "data": {
      "text/html": [
       "<div>\n",
       "<style>\n",
       "    .dataframe thead tr:only-child th {\n",
       "        text-align: right;\n",
       "    }\n",
       "\n",
       "    .dataframe thead th {\n",
       "        text-align: left;\n",
       "    }\n",
       "\n",
       "    .dataframe tbody tr th {\n",
       "        vertical-align: top;\n",
       "    }\n",
       "</style>\n",
       "<table border=\"1\" class=\"dataframe\">\n",
       "  <thead>\n",
       "    <tr style=\"text-align: right;\">\n",
       "      <th></th>\n",
       "      <th>Stock</th>\n",
       "      <th>Security_type</th>\n",
       "      <th>Conversion</th>\n",
       "      <th>Board</th>\n",
       "    </tr>\n",
       "  </thead>\n",
       "  <tbody>\n",
       "    <tr>\n",
       "      <th>2</th>\n",
       "      <td>=\"639914\"</td>\n",
       "      <td>Call WARRANTS</td>\n",
       "      <td>2 for 1</td>\n",
       "      <td>STRCWARR</td>\n",
       "    </tr>\n",
       "    <tr>\n",
       "      <th>3</th>\n",
       "      <td>=\"688828\"</td>\n",
       "      <td>Call WARRANTS</td>\n",
       "      <td>4 for 1</td>\n",
       "      <td>STRCWARR</td>\n",
       "    </tr>\n",
       "    <tr>\n",
       "      <th>4</th>\n",
       "      <td>=\"688829\"</td>\n",
       "      <td>Call WARRANTS</td>\n",
       "      <td>4 for 1</td>\n",
       "      <td>STRCWARR</td>\n",
       "    </tr>\n",
       "    <tr>\n",
       "      <th>5</th>\n",
       "      <td>=\"688830\"</td>\n",
       "      <td>Call WARRANTS</td>\n",
       "      <td>5 for 1</td>\n",
       "      <td>STRCWARR</td>\n",
       "    </tr>\n",
       "    <tr>\n",
       "      <th>6</th>\n",
       "      <td>=\"688831\"</td>\n",
       "      <td>Call WARRANTS</td>\n",
       "      <td>5 for 1</td>\n",
       "      <td>STRCWARR</td>\n",
       "    </tr>\n",
       "  </tbody>\n",
       "</table>\n",
       "</div>"
      ],
      "text/plain": [
       "       Stock  Security_type Conversion     Board\n",
       "2  =\"639914\"  Call WARRANTS    2 for 1  STRCWARR\n",
       "3  =\"688828\"  Call WARRANTS    4 for 1  STRCWARR\n",
       "4  =\"688829\"  Call WARRANTS    4 for 1  STRCWARR\n",
       "5  =\"688830\"  Call WARRANTS    5 for 1  STRCWARR\n",
       "6  =\"688831\"  Call WARRANTS    5 for 1  STRCWARR"
      ]
     },
     "execution_count": 9,
     "metadata": {},
     "output_type": "execute_result"
    }
   ],
   "source": [
    "df2.head()"
   ]
  },
  {
   "cell_type": "code",
   "execution_count": 10,
   "metadata": {},
   "outputs": [],
   "source": [
    "segment.to_csv('segment_info.csv',index=False)  \n",
    "df2.to_csv('warrant_info.csv',index=False)  "
   ]
  }
 ],
 "metadata": {
  "kernelspec": {
   "display_name": "Python 3",
   "language": "python",
   "name": "python3"
  },
  "language_info": {
   "codemirror_mode": {
    "name": "ipython",
    "version": 3
   },
   "file_extension": ".py",
   "mimetype": "text/x-python",
   "name": "python",
   "nbconvert_exporter": "python",
   "pygments_lexer": "ipython3",
   "version": "3.6.2"
  }
 },
 "nbformat": 4,
 "nbformat_minor": 2
}
