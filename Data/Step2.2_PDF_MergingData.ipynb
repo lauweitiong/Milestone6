{
 "cells": [
  {
   "cell_type": "code",
   "execution_count": 1,
   "metadata": {
    "collapsed": true
   },
   "outputs": [],
   "source": [
    "import pandas as pd\n",
    "import numpy as np\n",
    "from datetime import datetime"
   ]
  },
  {
   "cell_type": "code",
   "execution_count": 2,
   "metadata": {
    "collapsed": true
   },
   "outputs": [],
   "source": [
    "segment = pd.read_csv('segment_info.csv')\n",
    "warrant = pd.read_csv('warrant_info.csv')\n",
    "stock_daily = pd.read_csv('Stock_data.csv')"
   ]
  },
  {
   "cell_type": "code",
   "execution_count": 3,
   "metadata": {
    "collapsed": true
   },
   "outputs": [],
   "source": [
    "Stock_final = pd.merge(stock_daily, segment[['Stock','Board','Sector']], on='Stock', how='left')\n",
    "Stock_final = pd.merge(Stock_final, warrant[['Stock','Board']], on='Stock', how='left')\n",
    "Stock_final['Date'] = pd.to_datetime(Stock_final['Date'], dayfirst=True)"
   ]
  },
  {
   "cell_type": "code",
   "execution_count": 4,
   "metadata": {
    "collapsed": true
   },
   "outputs": [],
   "source": [
    "Stock_final['High'] = np.where(Stock_final['High'] == '######', 0, Stock_final['High'])\n",
    "Stock_final['Low'] = np.where(Stock_final['Low'] == '#####', 0, Stock_final['Low'])\n",
    "Stock_final['Board_x'] = np.where(Stock_final['Board_y'] == 'STRCWARR', 'STRCWARR', Stock_final['Board_x'])\n",
    "Stock_final['Sector'] = np.where(Stock_final['Board_y'] == 'STRCWARR', 'STRCWARR', Stock_final['Sector'])\n",
    "Stock_final['Sector'] = np.where(Stock_final['Board_x'] == 'STRCWARR', 'STRCWARR', Stock_final['Sector'])\n",
    "Stock_final = Stock_final.iloc[:,:-1]\n",
    "Stock_final = Stock_final.dropna()"
   ]
  },
  {
   "cell_type": "code",
   "execution_count": 5,
   "metadata": {
    "collapsed": true
   },
   "outputs": [],
   "source": [
    "Stock_final['pct'] = Stock_final.sort_values('Date').groupby(['Stock_name']).Closing.pct_change()\n",
    "Stock_final['Return'] = Stock_final.sort_values('Date').groupby(['Stock_name']).Closing.pct_change()\n",
    "Stock_final['Return'] = np.where(Stock_final['pct'] > 0, 1 ,Stock_final['Return'])\n",
    "Stock_final['Return'] = np.where(Stock_final['pct'] <= 0, 0 ,Stock_final['Return'])\n",
    "Stock_final = Stock_final.rename(columns={'Board_x':'Board'})\n",
    "Stock_final['Date'] = Stock_final['Date'].dt.strftime('%Y/%m/%d')\n",
    "Stock_final = Stock_final.dropna()"
   ]
  },
  {
   "cell_type": "code",
   "execution_count": 6,
   "metadata": {
    "collapsed": true
   },
   "outputs": [],
   "source": [
    "Stock_final.to_csv('Stock_Data_Final.csv',index=False)  "
   ]
  }
 ],
 "metadata": {
  "kernelspec": {
   "display_name": "Python 3",
   "language": "python",
   "name": "python3"
  },
  "language_info": {
   "codemirror_mode": {
    "name": "ipython",
    "version": 3
   },
   "file_extension": ".py",
   "mimetype": "text/x-python",
   "name": "python",
   "nbconvert_exporter": "python",
   "pygments_lexer": "ipython3",
   "version": "3.6.2"
  }
 },
 "nbformat": 4,
 "nbformat_minor": 2
}
