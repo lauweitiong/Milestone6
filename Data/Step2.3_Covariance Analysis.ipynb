{
 "cells": [
  {
   "cell_type": "code",
   "execution_count": 1,
   "metadata": {
    "collapsed": true
   },
   "outputs": [],
   "source": [
    "import pandas as pd\n",
    "import numpy as np\n",
    "from datetime import datetime\n",
    "from sklearn.decomposition import PCA\n",
    "from sklearn.preprocessing import StandardScaler"
   ]
  },
  {
   "cell_type": "code",
   "execution_count": 2,
   "metadata": {
    "collapsed": true
   },
   "outputs": [],
   "source": [
    "Stock_final = pd.read_csv('Stock_Data_Final.csv')"
   ]
  },
  {
   "cell_type": "code",
   "execution_count": 3,
   "metadata": {},
   "outputs": [],
   "source": [
    "cov_data = Stock_final[['Date','Stock_name','Closing']] \n",
    "cov_data2= pd.pivot_table(cov_data,index=['Stock_name'],values=['Closing'],\n",
    "               columns=['Date'])\n",
    "stock1 = pd.DataFrame(cov_data2.to_records())\n",
    "stock1.columns = [hdr.replace(\"('Closing', '\", \"\").replace(\"')\", \"\") \\\n",
    "                     for hdr in stock1.columns]\n",
    "stock1.fillna(0,inplace=True)\n",
    "stock2 = np.array(stock1.iloc[:,1:]) "
   ]
  },
  {
   "cell_type": "code",
   "execution_count": 4,
   "metadata": {},
   "outputs": [
    {
     "name": "stdout",
     "output_type": "stream",
     "text": [
      "      principal component 1  principal component 2\n",
      "0                 -0.192356               0.001092\n",
      "1                 -0.411495               0.000906\n",
      "2                 -0.586481              -0.005939\n",
      "3                 -0.490632              -0.011359\n",
      "4                 -0.102615              -0.001901\n",
      "5                 -0.787969               0.000251\n",
      "6                 -0.793732               0.001108\n",
      "7                 -0.723682              -0.034911\n",
      "8                 -0.658230               0.000442\n",
      "9                 -0.785003              -0.000372\n",
      "10                -0.026995               0.000427\n",
      "11                -0.756889              -0.000011\n",
      "12                 1.869492               0.005999\n",
      "13                -0.744839               0.000290\n",
      "14                -0.621899               0.000225\n",
      "15                -0.538623              -0.000320\n",
      "16                -0.518191               0.000348\n",
      "17                -0.599938               0.012531\n",
      "18                 0.439793               0.000928\n",
      "19                -0.740997              -0.000141\n",
      "20                -0.807526               0.000038\n",
      "21                -0.655087              -0.000258\n",
      "22                 0.152683               0.006484\n",
      "23                -0.796005               0.000634\n",
      "24                -0.778016               0.000260\n",
      "25                -0.803339               0.000674\n",
      "26                10.299867               0.002923\n",
      "27                 0.194228               0.003950\n",
      "28                 0.639172               0.005350\n",
      "29                -0.445723               0.000341\n",
      "...                     ...                    ...\n",
      "1747              -0.744839               0.000290\n",
      "1748              -0.722490               0.000195\n",
      "1749               0.483847               0.006254\n",
      "1750              -0.807875               0.000233\n",
      "1751              -0.733837               0.001107\n",
      "1752              -0.392812               0.000638\n",
      "1753               2.283086               0.019898\n",
      "1754              -0.787785               0.002583\n",
      "1755              -0.774698               0.000263\n",
      "1756              -0.734354               0.002879\n",
      "1757              -0.711662               0.000321\n",
      "1758              -0.748149              -0.025670\n",
      "1759              -0.802460              -0.003240\n",
      "1760              -0.665540              -0.059262\n",
      "1761               0.124521               0.002690\n",
      "1762              -0.028204               0.002290\n",
      "1763              -0.614539              -0.081272\n",
      "1764              -0.683865              -0.052172\n",
      "1765              -0.747958              -0.025669\n",
      "1766               1.076067               0.002128\n",
      "1767              -0.031703              -0.000374\n",
      "1768              -0.746058              -0.001417\n",
      "1769              -0.553113               0.001362\n",
      "1770              -0.579135               0.000576\n",
      "1771              -0.220641               0.001546\n",
      "1772              -0.807875               0.000233\n",
      "1773               0.050010               0.001725\n",
      "1774              -0.658211              -0.063159\n",
      "1775              -0.747282               0.001224\n",
      "1776               0.124776               0.006938\n",
      "\n",
      "[1777 rows x 2 columns]\n"
     ]
    }
   ],
   "source": [
    "# Standardizing the features\n",
    "stock2 = StandardScaler().fit_transform(stock2)\n",
    "\n",
    "# Running PCA for data reduction\n",
    "pca = PCA(n_components=2)\n",
    "principalComponents = pca.fit_transform(stock2)\n",
    "principalDf = pd.DataFrame(data = principalComponents\n",
    "             , columns = ['principal component 1', 'principal component 2'])\n",
    "\n",
    "print(principalDf)  "
   ]
  },
  {
   "cell_type": "code",
   "execution_count": 5,
   "metadata": {},
   "outputs": [
    {
     "name": "stdout",
     "output_type": "stream",
     "text": [
      "[[ 0.01871101  0.03988906  0.05615225 ...,  0.0575557   0.07239832\n",
      "  -0.01139774]\n",
      " [ 0.03988906  0.08503747  0.11970817 ...,  0.1227001   0.15434234\n",
      "  -0.02429826]\n",
      " [ 0.05615225  0.11970817  0.16851448 ...,  0.17272626  0.21726938\n",
      "  -0.03420492]\n",
      " ..., \n",
      " [ 0.0575557   0.1227001   0.17272626 ...,  0.1770433   0.22269972\n",
      "  -0.03505983]\n",
      " [ 0.07239832  0.15434234  0.21726938 ...,  0.22269972  0.28013014\n",
      "  -0.04410115]\n",
      " [-0.01139774 -0.02429826 -0.03420492 ..., -0.03505983 -0.04410115\n",
      "   0.00694289]]\n"
     ]
    }
   ],
   "source": [
    "#  Running Covariance   \n",
    "y = principalDf\n",
    "covariance = np.cov(y)\n",
    "variance = np.var(y, axis=1, ddof=1)\n",
    "\n",
    "# Check the data in console\n",
    "print(covariance)\n",
    "\n",
    "# Print the result of Covariance\n",
    "names=stock1['Stock_name'].tolist()\n",
    "covariance = pd.DataFrame(covariance, index=names, columns=names)\n",
    "covariance.to_csv('CorvarianceResult.csv')"
   ]
  }
 ],
 "metadata": {
  "kernelspec": {
   "display_name": "Python 3",
   "language": "python",
   "name": "python3"
  },
  "language_info": {
   "codemirror_mode": {
    "name": "ipython",
    "version": 3
   },
   "file_extension": ".py",
   "mimetype": "text/x-python",
   "name": "python",
   "nbconvert_exporter": "python",
   "pygments_lexer": "ipython3",
   "version": "3.6.2"
  }
 },
 "nbformat": 4,
 "nbformat_minor": 2
}
